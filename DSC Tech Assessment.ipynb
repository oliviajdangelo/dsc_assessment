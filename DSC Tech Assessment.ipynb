{
 "cells": [
  {
   "cell_type": "code",
   "execution_count": 58,
   "metadata": {},
   "outputs": [],
   "source": [
    "import sqlite3\n",
    "import pandas as pd\n",
    "import numpy as np\n",
    "from shapely.geometry import Point\n",
    "from shapely.geometry.polygon import Polygon\n",
    "\n",
    "import warnings\n",
    "# Not something I would include in production\n",
    "# Included for prototyping / sake of time\n",
    "warnings.filterwarnings(\"ignore\")"
   ]
  },
  {
   "cell_type": "markdown",
   "metadata": {},
   "source": [
    "<div>\n",
    "<img src=\"erd.png\" width=\"600\"/>\n",
    "</div>"
   ]
  },
  {
   "cell_type": "markdown",
   "metadata": {},
   "source": [
    "# Simulate Driver's Seat app data"
   ]
  },
  {
   "cell_type": "markdown",
   "metadata": {},
   "source": [
    "* Create sqlite database\n",
    "* Use Shapely (Python) library to simulate geometry datatypes"
   ]
  },
  {
   "cell_type": "markdown",
   "metadata": {},
   "source": [
    "### Create sqlite database"
   ]
  },
  {
   "cell_type": "code",
   "execution_count": 59,
   "metadata": {},
   "outputs": [],
   "source": [
    "conn = sqlite3.connect('app') \n",
    "c = conn.cursor()"
   ]
  },
  {
   "cell_type": "code",
   "execution_count": 60,
   "metadata": {},
   "outputs": [],
   "source": [
    "c.execute('''\n",
    "          CREATE TABLE IF NOT EXISTS job\n",
    "          (\n",
    "          [job_id] INTEGER PRIMARY KEY, \n",
    "          [driver_id] INTEGER, \n",
    "          [employer_id] INTEGER, \n",
    "          [pickup_time_utc] TIMESTAMP, \n",
    "          [dropoff_time_utc] TIMESTAMP,\n",
    "          [pickup_day] INTEGER, \n",
    "          [pickup_hour] INTEGER,\n",
    "          [earnings_total] FLOAT\n",
    "          )\n",
    "          ''')\n",
    "\n",
    "c.execute('''\n",
    "          CREATE TABLE IF NOT EXISTS employer\n",
    "          (\n",
    "          [employer_id] INTEGER PRIMARY KEY, \n",
    "          [employer_name] STRING\n",
    "          )\n",
    "          ''')\n",
    "\n",
    "\n",
    "c.execute('''\n",
    "          CREATE TABLE IF NOT EXISTS driver\n",
    "          (\n",
    "          [driver_id] INTEGER PRIMARY KEY, \n",
    "          [driver_name] STRING,\n",
    "          [timezone] STRING\n",
    "          )\n",
    "          ''')\n",
    "\n",
    "c.execute('''\n",
    "          CREATE TABLE IF NOT EXISTS driver_device_location\n",
    "          (\n",
    "          [location_id] INTEGER PRIMARY KEY, \n",
    "          [driver_id] INTTEGER, \n",
    "          [capture_time_utc] TIMESTAMP,\n",
    "          [point] GEOMETRY\n",
    "          )\n",
    "          ''')\n",
    "\n",
    "c.execute('''\n",
    "          CREATE TABLE IF NOT EXISTS metro_area\n",
    "          (\n",
    "          [area_id] INTEGER PRIMARY KEY, \n",
    "          [area_name] STRING, \n",
    "          [shape] GEOMETRY\n",
    "          )\n",
    "          ''')\n",
    "\n",
    "conn.commit()"
   ]
  },
  {
   "cell_type": "code",
   "execution_count": 61,
   "metadata": {},
   "outputs": [],
   "source": [
    "c.execute('''\n",
    "          INSERT INTO job (job_id, driver_id, employer_id, pickup_time_utc, dropoff_time_utc, \n",
    "          pickup_day, pickup_hour, earnings_total)\n",
    "\n",
    "                VALUES\n",
    "                (100, 1, 1, '2016-06-24 01:10:00.000', '2016-06-24 01:21:00.000', 1, 1, 21.92),\n",
    "                (101, 2, 2, '2016-06-25 02:10:00.000', '2016-06-25 02:17:00.000', 2, 2, 12.30),\n",
    "                (102 ,3, 2, '2016-06-26 03:10:00.000', '2016-06-26 03:13:00.000', 3, 3, 13.01),\n",
    "                (104, 4, 2, '2016-06-26 02:10:00.000', '2016-06-26 02:13:00.000', 3, 2, 18.30),\n",
    "                (105, 5, 1, '2016-06-22 19:10:00.000', '2016-06-22 19:10:00.000', 2, 1, 6.20),\n",
    "                (106, 5, 1, '2016-06-22 19:10:00.000', '2016-06-22 19:10:00.000', 3, 1, 8.20)\n",
    "          ''')\n",
    "\n",
    "c.execute('''\n",
    "          INSERT INTO employer (employer_id, employer_name)\n",
    "\n",
    "                VALUES\n",
    "                (1, 'Uber'),\n",
    "                (2, 'Doordash')\n",
    "          ''')\n",
    "\n",
    "c.execute('''\n",
    "          INSERT INTO driver (driver_id, driver_name, timezone)\n",
    "\n",
    "                VALUES\n",
    "                (1, 'Jake', 'PST'),\n",
    "                (2, 'Robin', 'EST'),\n",
    "                (3, 'Pablo', 'MST'),\n",
    "                (4, 'Casey', 'EST'),\n",
    "                (5, 'Ryan', 'CST'),\n",
    "                (6, 'Sarah', 'PST')\n",
    "          ''')\n",
    "\n",
    "c.execute('''\n",
    "          INSERT INTO driver_device_location (location_id, driver_id, capture_time_utc, point)\n",
    "\n",
    "                VALUES\n",
    "                (1001, 1, '2016-06-24 01:10:00', '0.5,0.5'),\n",
    "                (1002, 1, '2016-06-24 01:16:00', '0.5,0.6'),\n",
    "                (1003, 1, '2016-06-24 01:21:00', '0.5,0.7'),\n",
    "                (1004, 2, '2016-06-25 02:10:00', '0.9,0.9'),\n",
    "                (1005, 2, '2016-06-25 02:12:00', '0.95,0.9'),\n",
    "                (1006, 2, '2016-06-25 02:14:00', '1.01,0.95'),\n",
    "                (1007, 2, '2016-06-25 02:16:00', '1.05,0.99'),\n",
    "                (1008, 2, '2016-06-25 02:17:00', '1.10,0.99'),\n",
    "                (1009, 3, '2016-06-26 03:12:00', '0.05,0.06'),\n",
    "                (1010, 4, '2016-06-26 02:12:00', '0.05,0.06')\n",
    "                \n",
    "          ''')\n",
    "\n",
    "c.execute('''\n",
    "          INSERT INTO metro_area (area_id, area_name, shape)\n",
    "\n",
    "                VALUES\n",
    "                (22, 'Los Angeles-Long Beach-Glendale MD', '(0,0) (0,1) (1,1) (1,0)'),\n",
    "                (23, 'Anaheim-Santa Ana-Irvine MD', '(1,0) (1,1) (2,1) (2,0)')\n",
    "          ''')\n",
    "\n",
    "conn.commit()"
   ]
  },
  {
   "cell_type": "markdown",
   "metadata": {},
   "source": [
    "### Use Shapely (Python) library to simulate geometry datatypes"
   ]
  },
  {
   "cell_type": "code",
   "execution_count": 62,
   "metadata": {},
   "outputs": [],
   "source": [
    "# Join jobs to driver_device_location so that we can get consistent ride locations \n",
    "# (pick up an drop off locations are often missing)\n",
    "\n",
    "# Join job to driver_device_location based on:\n",
    "# 1) Matching driver_id \n",
    "# 2) Driver device location time is between job pickup time and dropoff time\n",
    "\n",
    "c.execute('''\n",
    "          SELECT job_id, point\n",
    "          FROM job\n",
    "          JOIN driver on job.driver_id = driver.driver_id\n",
    "          JOIN driver_device_location on job.driver_id = driver_device_location.driver_id\n",
    "              AND driver_device_location.capture_time_utc BETWEEN job. pickup_time_utc AND job.dropoff_time_utc \n",
    "          ''')\n",
    "\n",
    "trips = pd.DataFrame(c.fetchall() , columns=['job_id', 'point'])"
   ]
  },
  {
   "cell_type": "code",
   "execution_count": 63,
   "metadata": {},
   "outputs": [],
   "source": [
    "c.execute('''\n",
    "          SELECT area_id, area_name, shape\n",
    "          FROM metro_area\n",
    "          ''')\n",
    "\n",
    "metro_areas = pd.DataFrame(c.fetchall() , columns=['area_id', 'area_name', 'shape'])"
   ]
  },
  {
   "cell_type": "code",
   "execution_count": 64,
   "metadata": {},
   "outputs": [],
   "source": [
    "# Converts string to geometry Point datatype\n",
    "def create_point(coord):\n",
    "    ps = coord.split(\",\")\n",
    "    return Point(float(ps[0]), float(ps[1]))\n",
    "\n",
    "# Converts string to geometry Polygon datatype\n",
    "def create_polygon(coords):\n",
    "    ps = coords.replace('(','').replace(')','').split(\" \")\n",
    "    points = []\n",
    "    for i in ps:\n",
    "        points.append(create_point(i))\n",
    "    return Polygon(points)"
   ]
  },
  {
   "cell_type": "code",
   "execution_count": 65,
   "metadata": {},
   "outputs": [],
   "source": [
    "# Convert 'shape' column in metro_areas to Polygon datatype\n",
    "for ind in metro_areas.index:\n",
    "    metro_areas[\"shape\"][ind] = create_polygon(metro_areas['shape'][ind])\n",
    "    \n",
    "# Convert 'point' column in metro_areas to Point datatype\n",
    "for ind in trips.index:\n",
    "    trips['point'][ind] = create_point(trips['point'][ind])"
   ]
  },
  {
   "cell_type": "markdown",
   "metadata": {},
   "source": [
    "# Power Average Hourly Pay View\n",
    "1. Lookup and store metro area_name for each driver_device_location Point\n",
    "2. Determine dominant metro_area for each job\n",
    "3. Filter jobs to specific metro area\n",
    "4. Calculate total earnings per job\n",
    "5. Determine day of week and hour bins\n",
    "6. Calculate average pay grouped by hour of day and day of week\n",
    "\n",
    "Assumptions:\n",
    "* Choosing to use location data from driver_device_location table vs. location data from job table for consistency\n",
    "* Ignoring timezones for simplicity\n",
    "* Calculations for all rideshare, all delivery. Employer data ignored.\n",
    "* Assume there is already an earnings_total column in job table which is sum of earnings_pay, earnings_tip, and earnings_incentive"
   ]
  },
  {
   "cell_type": "markdown",
   "metadata": {},
   "source": [
    "### 1. Lookup and store metro area_name for each driver_device_location Point"
   ]
  },
  {
   "cell_type": "code",
   "execution_count": 66,
   "metadata": {},
   "outputs": [
    {
     "data": {
      "text/html": [
       "<div>\n",
       "<style scoped>\n",
       "    .dataframe tbody tr th:only-of-type {\n",
       "        vertical-align: middle;\n",
       "    }\n",
       "\n",
       "    .dataframe tbody tr th {\n",
       "        vertical-align: top;\n",
       "    }\n",
       "\n",
       "    .dataframe thead th {\n",
       "        text-align: right;\n",
       "    }\n",
       "</style>\n",
       "<table border=\"1\" class=\"dataframe\">\n",
       "  <thead>\n",
       "    <tr style=\"text-align: right;\">\n",
       "      <th></th>\n",
       "      <th>job_id</th>\n",
       "      <th>point</th>\n",
       "      <th>metro_area</th>\n",
       "    </tr>\n",
       "  </thead>\n",
       "  <tbody>\n",
       "    <tr>\n",
       "      <th>0</th>\n",
       "      <td>100</td>\n",
       "      <td>POINT (0.5 0.6)</td>\n",
       "      <td>Los Angeles-Long Beach-Glendale MD</td>\n",
       "    </tr>\n",
       "    <tr>\n",
       "      <th>1</th>\n",
       "      <td>100</td>\n",
       "      <td>POINT (0.5 0.7)</td>\n",
       "      <td>Los Angeles-Long Beach-Glendale MD</td>\n",
       "    </tr>\n",
       "    <tr>\n",
       "      <th>2</th>\n",
       "      <td>101</td>\n",
       "      <td>POINT (0.95 0.9)</td>\n",
       "      <td>Los Angeles-Long Beach-Glendale MD</td>\n",
       "    </tr>\n",
       "    <tr>\n",
       "      <th>3</th>\n",
       "      <td>101</td>\n",
       "      <td>POINT (1.01 0.95)</td>\n",
       "      <td>Anaheim-Santa Ana-Irvine MD</td>\n",
       "    </tr>\n",
       "    <tr>\n",
       "      <th>4</th>\n",
       "      <td>101</td>\n",
       "      <td>POINT (1.05 0.99)</td>\n",
       "      <td>Anaheim-Santa Ana-Irvine MD</td>\n",
       "    </tr>\n",
       "    <tr>\n",
       "      <th>5</th>\n",
       "      <td>101</td>\n",
       "      <td>POINT (1.1 0.99)</td>\n",
       "      <td>Anaheim-Santa Ana-Irvine MD</td>\n",
       "    </tr>\n",
       "    <tr>\n",
       "      <th>6</th>\n",
       "      <td>102</td>\n",
       "      <td>POINT (0.05 0.06)</td>\n",
       "      <td>Los Angeles-Long Beach-Glendale MD</td>\n",
       "    </tr>\n",
       "    <tr>\n",
       "      <th>7</th>\n",
       "      <td>104</td>\n",
       "      <td>POINT (0.05 0.06)</td>\n",
       "      <td>Los Angeles-Long Beach-Glendale MD</td>\n",
       "    </tr>\n",
       "  </tbody>\n",
       "</table>\n",
       "</div>"
      ],
      "text/plain": [
       "   job_id              point                          metro_area\n",
       "0     100    POINT (0.5 0.6)  Los Angeles-Long Beach-Glendale MD\n",
       "1     100    POINT (0.5 0.7)  Los Angeles-Long Beach-Glendale MD\n",
       "2     101   POINT (0.95 0.9)  Los Angeles-Long Beach-Glendale MD\n",
       "3     101  POINT (1.01 0.95)         Anaheim-Santa Ana-Irvine MD\n",
       "4     101  POINT (1.05 0.99)         Anaheim-Santa Ana-Irvine MD\n",
       "5     101   POINT (1.1 0.99)         Anaheim-Santa Ana-Irvine MD\n",
       "6     102  POINT (0.05 0.06)  Los Angeles-Long Beach-Glendale MD\n",
       "7     104  POINT (0.05 0.06)  Los Angeles-Long Beach-Glendale MD"
      ]
     },
     "execution_count": 66,
     "metadata": {},
     "output_type": "execute_result"
    }
   ],
   "source": [
    "# Create new column to house metro area_name in trips\n",
    "trips[\"metro_area\"] = np.nan\n",
    "# For each driver_device_location Point\n",
    "for ind in trips.index:\n",
    "    point = trips['point'][ind]\n",
    "\n",
    "    # For each metro_area\n",
    "    for ind2 in metro_areas.index:\n",
    "        polygon = metro_areas['shape'][ind2]\n",
    "        \n",
    "        # Determine which metro_area Polygon contains Point\n",
    "        if polygon.contains(point):\n",
    "            \n",
    "            # Store metro area in trips\n",
    "            trips[\"metro_area\"][ind] = metro_areas['area_name'][ind2]\n",
    "            \n",
    "trips"
   ]
  },
  {
   "cell_type": "markdown",
   "metadata": {},
   "source": [
    "### 2. Determine dominant metro_area for each job\n",
    "\"Dominant metro_area\" defined as the metro_area that houses the majority of points from driver_device_location\n",
    "- Take first metro_area in the case of a tie"
   ]
  },
  {
   "cell_type": "code",
   "execution_count": 67,
   "metadata": {},
   "outputs": [],
   "source": [
    "# Determine which metro_area is dominant for each job\n",
    "\n",
    "# Create new column to house dominant metro area_name in trips\n",
    "trips[\"dominant_metro_area\"] = np.nan\n",
    "\n",
    "for j in trips[\"job_id\"].unique():\n",
    "    job_trips = trips.loc[trips['job_id'] == j]\n",
    "    ma_mode = np.array(job_trips[\"metro_area\"].mode())\n",
    "    \n",
    "    if len(ma_mode) > 1: # Edge case where there are equal trip Points in multiple metro areas\n",
    "        trips[\"dominant_metro_area\"] = ma_mode[0][0]\n",
    "    else:\n",
    "        trips[\"dominant_metro_area\"] = np.where(trips['job_id'] == j, ma_mode[0], trips[\"dominant_metro_area\"])"
   ]
  },
  {
   "cell_type": "code",
   "execution_count": 68,
   "metadata": {},
   "outputs": [
    {
     "data": {
      "text/html": [
       "<div>\n",
       "<style scoped>\n",
       "    .dataframe tbody tr th:only-of-type {\n",
       "        vertical-align: middle;\n",
       "    }\n",
       "\n",
       "    .dataframe tbody tr th {\n",
       "        vertical-align: top;\n",
       "    }\n",
       "\n",
       "    .dataframe thead th {\n",
       "        text-align: right;\n",
       "    }\n",
       "</style>\n",
       "<table border=\"1\" class=\"dataframe\">\n",
       "  <thead>\n",
       "    <tr style=\"text-align: right;\">\n",
       "      <th></th>\n",
       "      <th>job_id</th>\n",
       "      <th>dominant_metro_area</th>\n",
       "    </tr>\n",
       "  </thead>\n",
       "  <tbody>\n",
       "    <tr>\n",
       "      <th>0</th>\n",
       "      <td>100</td>\n",
       "      <td>Los Angeles-Long Beach-Glendale MD</td>\n",
       "    </tr>\n",
       "    <tr>\n",
       "      <th>2</th>\n",
       "      <td>101</td>\n",
       "      <td>Anaheim-Santa Ana-Irvine MD</td>\n",
       "    </tr>\n",
       "    <tr>\n",
       "      <th>6</th>\n",
       "      <td>102</td>\n",
       "      <td>Los Angeles-Long Beach-Glendale MD</td>\n",
       "    </tr>\n",
       "    <tr>\n",
       "      <th>7</th>\n",
       "      <td>104</td>\n",
       "      <td>Los Angeles-Long Beach-Glendale MD</td>\n",
       "    </tr>\n",
       "  </tbody>\n",
       "</table>\n",
       "</div>"
      ],
      "text/plain": [
       "   job_id                 dominant_metro_area\n",
       "0     100  Los Angeles-Long Beach-Glendale MD\n",
       "2     101         Anaheim-Santa Ana-Irvine MD\n",
       "6     102  Los Angeles-Long Beach-Glendale MD\n",
       "7     104  Los Angeles-Long Beach-Glendale MD"
      ]
     },
     "execution_count": 68,
     "metadata": {},
     "output_type": "execute_result"
    }
   ],
   "source": [
    "job_area = trips.drop(['point', 'metro_area'], axis=1)\n",
    "job_area = job_area.drop_duplicates()\n",
    "job_area"
   ]
  },
  {
   "cell_type": "markdown",
   "metadata": {},
   "source": [
    "### 3. Filter jobs to specific metro area"
   ]
  },
  {
   "cell_type": "code",
   "execution_count": 74,
   "metadata": {},
   "outputs": [
    {
     "data": {
      "text/html": [
       "<div>\n",
       "<style scoped>\n",
       "    .dataframe tbody tr th:only-of-type {\n",
       "        vertical-align: middle;\n",
       "    }\n",
       "\n",
       "    .dataframe tbody tr th {\n",
       "        vertical-align: top;\n",
       "    }\n",
       "\n",
       "    .dataframe thead th {\n",
       "        text-align: right;\n",
       "    }\n",
       "</style>\n",
       "<table border=\"1\" class=\"dataframe\">\n",
       "  <thead>\n",
       "    <tr style=\"text-align: right;\">\n",
       "      <th></th>\n",
       "      <th>job_id</th>\n",
       "      <th>dominant_metro_area</th>\n",
       "    </tr>\n",
       "  </thead>\n",
       "  <tbody>\n",
       "    <tr>\n",
       "      <th>0</th>\n",
       "      <td>100</td>\n",
       "      <td>Los Angeles-Long Beach-Glendale MD</td>\n",
       "    </tr>\n",
       "    <tr>\n",
       "      <th>6</th>\n",
       "      <td>102</td>\n",
       "      <td>Los Angeles-Long Beach-Glendale MD</td>\n",
       "    </tr>\n",
       "    <tr>\n",
       "      <th>7</th>\n",
       "      <td>104</td>\n",
       "      <td>Los Angeles-Long Beach-Glendale MD</td>\n",
       "    </tr>\n",
       "  </tbody>\n",
       "</table>\n",
       "</div>"
      ],
      "text/plain": [
       "   job_id                 dominant_metro_area\n",
       "0     100  Los Angeles-Long Beach-Glendale MD\n",
       "6     102  Los Angeles-Long Beach-Glendale MD\n",
       "7     104  Los Angeles-Long Beach-Glendale MD"
      ]
     },
     "execution_count": 74,
     "metadata": {},
     "output_type": "execute_result"
    }
   ],
   "source": [
    "job_area_la = job_area.loc[job_area['dominant_metro_area'] == \"Los Angeles-Long Beach-Glendale MD\"]\n",
    "job_area_la"
   ]
  },
  {
   "cell_type": "markdown",
   "metadata": {},
   "source": [
    "### 4. Calculate total pay per job\n",
    "In production this would be sum of earnings pay, tip, and incentive attributes from the jobs table"
   ]
  },
  {
   "cell_type": "markdown",
   "metadata": {},
   "source": [
    "### 5. Determine day of week and hour bins\n",
    "- I'm simply taking the pickup time hour and pickup day of week\n",
    "- In practice, I'd would consider taking the parts of the day of week and hour\n",
    "    - eg. for trip spanning 3:40pm to 4:30pm, 2/5 of the total earnings would count towards 3pm and 3/5 of the earnings would count towards 3pm\n",
    "- In practice, I would use PostgreSQL timestamptz datatype to handle time zones\n",
    "- I ended up adding \"pickup_day\" and \"pickup_hour\" columns directly to the db. Normally I would use SQL to extract these from the timestamp stored in the db but dates in SQLite work differently than in PostgreSQL"
   ]
  },
  {
   "cell_type": "code",
   "execution_count": 78,
   "metadata": {},
   "outputs": [
    {
     "data": {
      "text/html": [
       "<div>\n",
       "<style scoped>\n",
       "    .dataframe tbody tr th:only-of-type {\n",
       "        vertical-align: middle;\n",
       "    }\n",
       "\n",
       "    .dataframe tbody tr th {\n",
       "        vertical-align: top;\n",
       "    }\n",
       "\n",
       "    .dataframe thead th {\n",
       "        text-align: right;\n",
       "    }\n",
       "</style>\n",
       "<table border=\"1\" class=\"dataframe\">\n",
       "  <thead>\n",
       "    <tr style=\"text-align: right;\">\n",
       "      <th></th>\n",
       "      <th>job_id</th>\n",
       "      <th>pickup_time_utc</th>\n",
       "      <th>earnings_total</th>\n",
       "      <th>pickup_hour</th>\n",
       "      <th>pickup_day</th>\n",
       "    </tr>\n",
       "  </thead>\n",
       "  <tbody>\n",
       "    <tr>\n",
       "      <th>0</th>\n",
       "      <td>100</td>\n",
       "      <td>2016-06-24 01:10:00.000</td>\n",
       "      <td>21.92</td>\n",
       "      <td>1</td>\n",
       "      <td>Saturday</td>\n",
       "    </tr>\n",
       "    <tr>\n",
       "      <th>1</th>\n",
       "      <td>101</td>\n",
       "      <td>2016-06-25 02:10:00.000</td>\n",
       "      <td>12.30</td>\n",
       "      <td>2</td>\n",
       "      <td>Saturday</td>\n",
       "    </tr>\n",
       "    <tr>\n",
       "      <th>2</th>\n",
       "      <td>102</td>\n",
       "      <td>2016-06-26 03:10:00.000</td>\n",
       "      <td>13.01</td>\n",
       "      <td>3</td>\n",
       "      <td>Saturday</td>\n",
       "    </tr>\n",
       "    <tr>\n",
       "      <th>3</th>\n",
       "      <td>104</td>\n",
       "      <td>2016-06-26 02:10:00.000</td>\n",
       "      <td>18.30</td>\n",
       "      <td>2</td>\n",
       "      <td>Saturday</td>\n",
       "    </tr>\n",
       "    <tr>\n",
       "      <th>4</th>\n",
       "      <td>105</td>\n",
       "      <td>2016-06-22 19:10:00.000</td>\n",
       "      <td>6.20</td>\n",
       "      <td>1</td>\n",
       "      <td>Saturday</td>\n",
       "    </tr>\n",
       "    <tr>\n",
       "      <th>5</th>\n",
       "      <td>106</td>\n",
       "      <td>2016-06-22 19:10:00.000</td>\n",
       "      <td>8.20</td>\n",
       "      <td>1</td>\n",
       "      <td>Saturday</td>\n",
       "    </tr>\n",
       "  </tbody>\n",
       "</table>\n",
       "</div>"
      ],
      "text/plain": [
       "   job_id          pickup_time_utc  earnings_total  pickup_hour pickup_day\n",
       "0     100  2016-06-24 01:10:00.000           21.92            1   Saturday\n",
       "1     101  2016-06-25 02:10:00.000           12.30            2   Saturday\n",
       "2     102  2016-06-26 03:10:00.000           13.01            3   Saturday\n",
       "3     104  2016-06-26 02:10:00.000           18.30            2   Saturday\n",
       "4     105  2016-06-22 19:10:00.000            6.20            1   Saturday\n",
       "5     106  2016-06-22 19:10:00.000            8.20            1   Saturday"
      ]
     },
     "execution_count": 78,
     "metadata": {},
     "output_type": "execute_result"
    }
   ],
   "source": [
    "# Retrieve total earnings and job time\n",
    "c.execute('''\n",
    "          SELECT job_id, pickup_time_utc, earnings_total, pickup_hour,\n",
    "              case 'pickup_day'\n",
    "                  when 0 then 'Sunday'\n",
    "                  when 1 then 'Monday'\n",
    "                  when 2 then 'Tuesday'\n",
    "                  when 3 then 'Wednesday'\n",
    "                  when 4 then 'Thursday'\n",
    "                  when 5 then 'Friday'\n",
    "                  else 'Saturday' \n",
    "                end as day_of_week\n",
    "          FROM job\n",
    "          JOIN driver on job.driver_id = driver.driver_id \n",
    "          ''')\n",
    "\n",
    "job_earnings = pd.DataFrame(c.fetchall() , columns=['job_id', 'pickup_time_utc', 'earnings_total',\n",
    "                                                    'pickup_hour', 'pickup_day'])\n",
    "\n",
    "job_earnings"
   ]
  },
  {
   "cell_type": "markdown",
   "metadata": {},
   "source": [
    "### 6. Calculate average pay grouped by hour of day and day of week\n",
    "- Assumption: One trip per hour. \n",
    "    - In production, we'd have to add the earnings from all trips (or parts of trips) that fall within a given hour"
   ]
  },
  {
   "cell_type": "code",
   "execution_count": 79,
   "metadata": {},
   "outputs": [
    {
     "data": {
      "text/html": [
       "<div>\n",
       "<style scoped>\n",
       "    .dataframe tbody tr th:only-of-type {\n",
       "        vertical-align: middle;\n",
       "    }\n",
       "\n",
       "    .dataframe tbody tr th {\n",
       "        vertical-align: top;\n",
       "    }\n",
       "\n",
       "    .dataframe thead th {\n",
       "        text-align: right;\n",
       "    }\n",
       "</style>\n",
       "<table border=\"1\" class=\"dataframe\">\n",
       "  <thead>\n",
       "    <tr style=\"text-align: right;\">\n",
       "      <th></th>\n",
       "      <th>job_id</th>\n",
       "      <th>dominant_metro_area</th>\n",
       "      <th>pickup_time_utc</th>\n",
       "      <th>earnings_total</th>\n",
       "      <th>pickup_hour</th>\n",
       "      <th>pickup_day</th>\n",
       "    </tr>\n",
       "  </thead>\n",
       "  <tbody>\n",
       "    <tr>\n",
       "      <th>0</th>\n",
       "      <td>100</td>\n",
       "      <td>Los Angeles-Long Beach-Glendale MD</td>\n",
       "      <td>2016-06-24 01:10:00.000</td>\n",
       "      <td>21.92</td>\n",
       "      <td>1</td>\n",
       "      <td>Saturday</td>\n",
       "    </tr>\n",
       "    <tr>\n",
       "      <th>1</th>\n",
       "      <td>102</td>\n",
       "      <td>Los Angeles-Long Beach-Glendale MD</td>\n",
       "      <td>2016-06-26 03:10:00.000</td>\n",
       "      <td>13.01</td>\n",
       "      <td>3</td>\n",
       "      <td>Saturday</td>\n",
       "    </tr>\n",
       "    <tr>\n",
       "      <th>2</th>\n",
       "      <td>104</td>\n",
       "      <td>Los Angeles-Long Beach-Glendale MD</td>\n",
       "      <td>2016-06-26 02:10:00.000</td>\n",
       "      <td>18.30</td>\n",
       "      <td>2</td>\n",
       "      <td>Saturday</td>\n",
       "    </tr>\n",
       "  </tbody>\n",
       "</table>\n",
       "</div>"
      ],
      "text/plain": [
       "   job_id                 dominant_metro_area          pickup_time_utc  \\\n",
       "0     100  Los Angeles-Long Beach-Glendale MD  2016-06-24 01:10:00.000   \n",
       "1     102  Los Angeles-Long Beach-Glendale MD  2016-06-26 03:10:00.000   \n",
       "2     104  Los Angeles-Long Beach-Glendale MD  2016-06-26 02:10:00.000   \n",
       "\n",
       "   earnings_total  pickup_hour pickup_day  \n",
       "0           21.92            1   Saturday  \n",
       "1           13.01            3   Saturday  \n",
       "2           18.30            2   Saturday  "
      ]
     },
     "execution_count": 79,
     "metadata": {},
     "output_type": "execute_result"
    }
   ],
   "source": [
    "trips_la = pd.merge(job_area_la, job_earnings)\n",
    "trips_la"
   ]
  },
  {
   "cell_type": "code",
   "execution_count": 77,
   "metadata": {},
   "outputs": [],
   "source": [
    "# Sum earnings_total, grouped by pickup_hour and pickup_day"
   ]
  },
  {
   "cell_type": "markdown",
   "metadata": {},
   "source": [
    "<div>\n",
    "<img src=\"view.png\" width=\"300\"/>\n",
    "</div>"
   ]
  }
 ],
 "metadata": {
  "kernelspec": {
   "display_name": "Python 3",
   "language": "python",
   "name": "python3"
  },
  "language_info": {
   "codemirror_mode": {
    "name": "ipython",
    "version": 3
   },
   "file_extension": ".py",
   "mimetype": "text/x-python",
   "name": "python",
   "nbconvert_exporter": "python",
   "pygments_lexer": "ipython3",
   "version": "3.8.3"
  }
 },
 "nbformat": 4,
 "nbformat_minor": 4
}
